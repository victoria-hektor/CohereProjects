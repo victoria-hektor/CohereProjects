{
  "nbformat": 4,
  "nbformat_minor": 0,
  "metadata": {
    "colab": {
      "provenance": []
    },
    "kernelspec": {
      "name": "python3",
      "display_name": "Python 3"
    },
    "language_info": {
      "name": "python"
    }
  },
  "cells": [
    {
      "cell_type": "code",
      "execution_count": 1,
      "metadata": {
        "colab": {
          "base_uri": "https://localhost:8080/"
        },
        "id": "-or1IrkL0fQj",
        "outputId": "013556b9-a51a-465a-a2f8-4611ab0299b6"
      },
      "outputs": [
        {
          "output_type": "stream",
          "name": "stdout",
          "text": [
            "Collecting cohere\n",
            "  Downloading cohere-5.5.8-py3-none-any.whl (173 kB)\n",
            "\u001b[2K     \u001b[90m━━━━━━━━━━━━━━━━━━━━━━━━━━━━━━━━━━━━━━━━\u001b[0m \u001b[32m173.8/173.8 kB\u001b[0m \u001b[31m2.4 MB/s\u001b[0m eta \u001b[36m0:00:00\u001b[0m\n",
            "\u001b[?25hCollecting boto3<2.0.0,>=1.34.0 (from cohere)\n",
            "  Downloading boto3-1.34.139-py3-none-any.whl (139 kB)\n",
            "\u001b[2K     \u001b[90m━━━━━━━━━━━━━━━━━━━━━━━━━━━━━━━━━━━━━━━━\u001b[0m \u001b[32m139.2/139.2 kB\u001b[0m \u001b[31m1.3 MB/s\u001b[0m eta \u001b[36m0:00:00\u001b[0m\n",
            "\u001b[?25hCollecting fastavro<2.0.0,>=1.9.4 (from cohere)\n",
            "  Downloading fastavro-1.9.4-cp310-cp310-manylinux_2_17_x86_64.manylinux2014_x86_64.whl (3.1 MB)\n",
            "\u001b[2K     \u001b[90m━━━━━━━━━━━━━━━━━━━━━━━━━━━━━━━━━━━━━━━━\u001b[0m \u001b[32m3.1/3.1 MB\u001b[0m \u001b[31m26.9 MB/s\u001b[0m eta \u001b[36m0:00:00\u001b[0m\n",
            "\u001b[?25hCollecting httpx>=0.21.2 (from cohere)\n",
            "  Downloading httpx-0.27.0-py3-none-any.whl (75 kB)\n",
            "\u001b[2K     \u001b[90m━━━━━━━━━━━━━━━━━━━━━━━━━━━━━━━━━━━━━━━━\u001b[0m \u001b[32m75.6/75.6 kB\u001b[0m \u001b[31m7.4 MB/s\u001b[0m eta \u001b[36m0:00:00\u001b[0m\n",
            "\u001b[?25hCollecting httpx-sse<0.5.0,>=0.4.0 (from cohere)\n",
            "  Downloading httpx_sse-0.4.0-py3-none-any.whl (7.8 kB)\n",
            "Collecting parameterized<0.10.0,>=0.9.0 (from cohere)\n",
            "  Downloading parameterized-0.9.0-py2.py3-none-any.whl (20 kB)\n",
            "Requirement already satisfied: pydantic>=1.9.2 in /usr/local/lib/python3.10/dist-packages (from cohere) (2.8.0)\n",
            "Requirement already satisfied: requests<3.0.0,>=2.0.0 in /usr/local/lib/python3.10/dist-packages (from cohere) (2.31.0)\n",
            "Requirement already satisfied: tokenizers<1,>=0.15 in /usr/local/lib/python3.10/dist-packages (from cohere) (0.19.1)\n",
            "Collecting types-requests<3.0.0,>=2.0.0 (from cohere)\n",
            "  Downloading types_requests-2.32.0.20240622-py3-none-any.whl (15 kB)\n",
            "Requirement already satisfied: typing_extensions>=4.0.0 in /usr/local/lib/python3.10/dist-packages (from cohere) (4.12.2)\n",
            "Collecting botocore<1.35.0,>=1.34.139 (from boto3<2.0.0,>=1.34.0->cohere)\n",
            "  Downloading botocore-1.34.139-py3-none-any.whl (12.4 MB)\n",
            "\u001b[2K     \u001b[90m━━━━━━━━━━━━━━━━━━━━━━━━━━━━━━━━━━━━━━━━\u001b[0m \u001b[32m12.4/12.4 MB\u001b[0m \u001b[31m49.3 MB/s\u001b[0m eta \u001b[36m0:00:00\u001b[0m\n",
            "\u001b[?25hCollecting jmespath<2.0.0,>=0.7.1 (from boto3<2.0.0,>=1.34.0->cohere)\n",
            "  Downloading jmespath-1.0.1-py3-none-any.whl (20 kB)\n",
            "Collecting s3transfer<0.11.0,>=0.10.0 (from boto3<2.0.0,>=1.34.0->cohere)\n",
            "  Downloading s3transfer-0.10.2-py3-none-any.whl (82 kB)\n",
            "\u001b[2K     \u001b[90m━━━━━━━━━━━━━━━━━━━━━━━━━━━━━━━━━━━━━━━━\u001b[0m \u001b[32m82.7/82.7 kB\u001b[0m \u001b[31m8.9 MB/s\u001b[0m eta \u001b[36m0:00:00\u001b[0m\n",
            "\u001b[?25hRequirement already satisfied: anyio in /usr/local/lib/python3.10/dist-packages (from httpx>=0.21.2->cohere) (3.7.1)\n",
            "Requirement already satisfied: certifi in /usr/local/lib/python3.10/dist-packages (from httpx>=0.21.2->cohere) (2024.6.2)\n",
            "Collecting httpcore==1.* (from httpx>=0.21.2->cohere)\n",
            "  Downloading httpcore-1.0.5-py3-none-any.whl (77 kB)\n",
            "\u001b[2K     \u001b[90m━━━━━━━━━━━━━━━━━━━━━━━━━━━━━━━━━━━━━━━━\u001b[0m \u001b[32m77.9/77.9 kB\u001b[0m \u001b[31m8.0 MB/s\u001b[0m eta \u001b[36m0:00:00\u001b[0m\n",
            "\u001b[?25hRequirement already satisfied: idna in /usr/local/lib/python3.10/dist-packages (from httpx>=0.21.2->cohere) (3.7)\n",
            "Requirement already satisfied: sniffio in /usr/local/lib/python3.10/dist-packages (from httpx>=0.21.2->cohere) (1.3.1)\n",
            "Collecting h11<0.15,>=0.13 (from httpcore==1.*->httpx>=0.21.2->cohere)\n",
            "  Downloading h11-0.14.0-py3-none-any.whl (58 kB)\n",
            "\u001b[2K     \u001b[90m━━━━━━━━━━━━━━━━━━━━━━━━━━━━━━━━━━━━━━━━\u001b[0m \u001b[32m58.3/58.3 kB\u001b[0m \u001b[31m5.8 MB/s\u001b[0m eta \u001b[36m0:00:00\u001b[0m\n",
            "\u001b[?25hRequirement already satisfied: annotated-types>=0.4.0 in /usr/local/lib/python3.10/dist-packages (from pydantic>=1.9.2->cohere) (0.7.0)\n",
            "Requirement already satisfied: pydantic-core==2.20.0 in /usr/local/lib/python3.10/dist-packages (from pydantic>=1.9.2->cohere) (2.20.0)\n",
            "Requirement already satisfied: charset-normalizer<4,>=2 in /usr/local/lib/python3.10/dist-packages (from requests<3.0.0,>=2.0.0->cohere) (3.3.2)\n",
            "Requirement already satisfied: urllib3<3,>=1.21.1 in /usr/local/lib/python3.10/dist-packages (from requests<3.0.0,>=2.0.0->cohere) (2.0.7)\n",
            "Requirement already satisfied: huggingface-hub<1.0,>=0.16.4 in /usr/local/lib/python3.10/dist-packages (from tokenizers<1,>=0.15->cohere) (0.23.4)\n",
            "Requirement already satisfied: python-dateutil<3.0.0,>=2.1 in /usr/local/lib/python3.10/dist-packages (from botocore<1.35.0,>=1.34.139->boto3<2.0.0,>=1.34.0->cohere) (2.8.2)\n",
            "Requirement already satisfied: filelock in /usr/local/lib/python3.10/dist-packages (from huggingface-hub<1.0,>=0.16.4->tokenizers<1,>=0.15->cohere) (3.15.4)\n",
            "Requirement already satisfied: fsspec>=2023.5.0 in /usr/local/lib/python3.10/dist-packages (from huggingface-hub<1.0,>=0.16.4->tokenizers<1,>=0.15->cohere) (2023.6.0)\n",
            "Requirement already satisfied: packaging>=20.9 in /usr/local/lib/python3.10/dist-packages (from huggingface-hub<1.0,>=0.16.4->tokenizers<1,>=0.15->cohere) (24.1)\n",
            "Requirement already satisfied: pyyaml>=5.1 in /usr/local/lib/python3.10/dist-packages (from huggingface-hub<1.0,>=0.16.4->tokenizers<1,>=0.15->cohere) (6.0.1)\n",
            "Requirement already satisfied: tqdm>=4.42.1 in /usr/local/lib/python3.10/dist-packages (from huggingface-hub<1.0,>=0.16.4->tokenizers<1,>=0.15->cohere) (4.66.4)\n",
            "Requirement already satisfied: exceptiongroup in /usr/local/lib/python3.10/dist-packages (from anyio->httpx>=0.21.2->cohere) (1.2.1)\n",
            "Requirement already satisfied: six>=1.5 in /usr/local/lib/python3.10/dist-packages (from python-dateutil<3.0.0,>=2.1->botocore<1.35.0,>=1.34.139->boto3<2.0.0,>=1.34.0->cohere) (1.16.0)\n",
            "Installing collected packages: types-requests, parameterized, jmespath, httpx-sse, h11, fastavro, httpcore, botocore, s3transfer, httpx, boto3, cohere\n",
            "Successfully installed boto3-1.34.139 botocore-1.34.139 cohere-5.5.8 fastavro-1.9.4 h11-0.14.0 httpcore-1.0.5 httpx-0.27.0 httpx-sse-0.4.0 jmespath-1.0.1 parameterized-0.9.0 s3transfer-0.10.2 types-requests-2.32.0.20240622\n"
          ]
        }
      ],
      "source": [
        "pip install cohere"
      ]
    },
    {
      "cell_type": "code",
      "source": [
        "import cohere\n",
        "\n",
        "co = cohere.Client('VLLVyGHAXjiYz8frehzDEFPgjF1BkLf05P2RXlQx')"
      ],
      "metadata": {
        "id": "LuR9apNL0lwm"
      },
      "execution_count": 2,
      "outputs": []
    },
    {
      "cell_type": "code",
      "source": [
        "knowledge_base = {\n",
        "    \"conditions\": {\n",
        "        \"pcos\": {\n",
        "            \"symptoms\": [\n",
        "                \"Irregular menstrual cycles\",\n",
        "                \"Excessive hair growth\",\n",
        "                \"Acne\",\n",
        "                \"Obesity\",\n",
        "                \"Ovarian cysts\"\n",
        "            ],\n",
        "            \"treatment\": [\n",
        "                \"Lifestyle changes (diet, exercise)\",\n",
        "                \"Medications (metformin, hormonal contraceptives)\",\n",
        "                \"Fertility treatments if necessary\"\n",
        "            ],\n",
        "            \"diagnostic_criteria\": [\n",
        "                \"Irregular periods\",\n",
        "                \"Elevated androgen levels\",\n",
        "                \"Polycystic ovaries on ultrasound\"\n",
        "            ],\n",
        "            \"complications\": [\n",
        "                \"Infertility\",\n",
        "                \"Type 2 diabetes\",\n",
        "                \"Heart disease\",\n",
        "                \"Endometrial cancer\"\n",
        "            ]\n",
        "        },\n",
        "        \"endometriosis\": {\n",
        "            \"symptoms\": [\n",
        "                \"Pelvic pain\",\n",
        "                \"Painful periods\",\n",
        "                \"Pain during intercourse\",\n",
        "                \"Infertility\",\n",
        "                \"Heavy menstrual bleeding\"\n",
        "            ],\n",
        "            \"treatment\": [\n",
        "                \"Pain relief medications (NSAIDs)\",\n",
        "                \"Hormonal therapies (birth control pills, GnRH agonists)\",\n",
        "                \"Surgical options (laparoscopy, hysterectomy)\"\n",
        "            ],\n",
        "            \"diagnostic_criteria\": [\n",
        "                \"Pelvic exam\",\n",
        "                \"Ultrasound\",\n",
        "                \"MRI\",\n",
        "                \"Laparoscopy\"\n",
        "            ],\n",
        "            \"complications\": [\n",
        "                \"Chronic pain\",\n",
        "                \"Ovarian cysts\",\n",
        "                \"Scar tissue and adhesions\",\n",
        "                \"Infertility\"\n",
        "            ]\n",
        "        },\n",
        "        \"uterine_fibroids\": {\n",
        "            \"symptoms\": [\n",
        "                \"Heavy menstrual bleeding\",\n",
        "                \"Pelvic pressure or pain\",\n",
        "                \"Frequent urination\",\n",
        "                \"Difficulty emptying the bladder\",\n",
        "                \"Constipation\"\n",
        "            ],\n",
        "            \"treatment\": [\n",
        "                \"Medications (hormone therapy)\",\n",
        "                \"Minimally invasive procedures (uterine artery embolization)\",\n",
        "                \"Surgical options (myomectomy, hysterectomy)\"\n",
        "            ],\n",
        "            \"diagnostic_criteria\": [\n",
        "                \"Pelvic exam\",\n",
        "                \"Ultrasound\",\n",
        "                \"MRI\"\n",
        "            ],\n",
        "            \"complications\": [\n",
        "                \"Anemia from heavy blood loss\",\n",
        "                \"Urinary tract infections\",\n",
        "                \"Infertility\"\n",
        "            ]\n",
        "        },\n",
        "        \"adenomyosis\": {\n",
        "            \"symptoms\": [\n",
        "                \"Heavy or prolonged menstrual bleeding\",\n",
        "                \"Severe menstrual cramps\",\n",
        "                \"Chronic pelvic pain\",\n",
        "                \"Enlarged uterus\"\n",
        "            ],\n",
        "            \"treatment\": [\n",
        "                \"Pain relief medications (NSAIDs)\",\n",
        "                \"Hormone therapy (birth control pills, IUD)\",\n",
        "                \"Surgical options (endometrial ablation, hysterectomy)\"\n",
        "            ],\n",
        "            \"diagnostic_criteria\": [\n",
        "                \"Pelvic exam\",\n",
        "                \"Ultrasound\",\n",
        "                \"MRI\"\n",
        "            ],\n",
        "            \"complications\": [\n",
        "                \"Severe pain\",\n",
        "                \"Anemia from heavy blood loss\",\n",
        "                \"Impact on quality of life\"\n",
        "            ]\n",
        "        }\n",
        "    }\n",
        "}\n",
        "\n",
        "import json\n",
        "\n",
        "# Save the knowledge base to a JSON file\n",
        "with open('knowledge_base.json', 'w') as f:\n",
        "    json.dump(knowledge_base, f)"
      ],
      "metadata": {
        "id": "36PBMd0h0vMq"
      },
      "execution_count": 3,
      "outputs": []
    },
    {
      "cell_type": "code",
      "source": [
        "import json\n",
        "import re\n",
        "import cohere\n",
        "\n",
        "class ClinicalDecisionSupportBot:\n",
        "    def __init__(self, api_key, knowledge_base_path):\n",
        "        self.cohere_client = cohere.Client(api_key)\n",
        "        self.knowledge_base = self.load_knowledge_base(knowledge_base_path)\n",
        "\n",
        "    def load_knowledge_base(self, path):\n",
        "        with open(path, 'r') as file:\n",
        "            return json.load(file)\n",
        "\n",
        "    def preprocess_query(self, query):\n",
        "        query = query.lower()\n",
        "        query = re.sub(r'[^\\w\\s]', '', query)\n",
        "        return query\n",
        "\n",
        "    def generate_response(self, prompt):\n",
        "        response = self.cohere_client.generate(\n",
        "            model='large',\n",
        "            prompt=prompt,\n",
        "            max_tokens=100\n",
        "        )\n",
        "        return response.generations[0].text\n",
        "\n",
        "    def answer_query(self, query):\n",
        "        preprocessed_query = self.preprocess_query(query)\n",
        "        for condition, details in self.knowledge_base[\"conditions\"].items():\n",
        "            if condition in preprocessed_query:\n",
        "                if \"symptoms\" in preprocessed_query:\n",
        "                    return f\"The common symptoms of {condition.upper()} include: {', '.join(details['symptoms'])}.\"\n",
        "                elif \"treatment\" in preprocessed_query:\n",
        "                    return f\"The recommended treatment for {condition.upper()} includes: {', '.join(details['treatment'])}.\"\n",
        "                elif \"diagnostic criteria\" in preprocessed_query:\n",
        "                    return f\"The diagnostic criteria for {condition.upper()} include: {', '.join(details['diagnostic_criteria'])}.\"\n",
        "                elif \"complications\" in preprocessed_query:\n",
        "                    return f\"{condition.upper()} can lead to the following complications: {', '.join(details['complications'])}.\"\n",
        "\n",
        "        prompt = f\"Provide clinical decision support for: {query}\"\n",
        "        response = self.generate_response(prompt)\n",
        "        return response\n",
        "\n",
        "# Initialize the bot with your API key and knowledge base file path\n",
        "bot = ClinicalDecisionSupportBot('VLLVyGHAXjiYz8frehzDEFPgjF1BkLf05P2RXlQx', 'knowledge_base.json')\n",
        "\n",
        "# Test the bot with a query\n",
        "print(bot.answer_query(\"What are the symptoms of PCOS?\"))\n",
        "print(bot.answer_query(\"What are the treatment options for endometriosis?\"))"
      ],
      "metadata": {
        "colab": {
          "base_uri": "https://localhost:8080/"
        },
        "id": "OsMwgELr2Sbt",
        "outputId": "ae27071e-2e0d-416c-bcfa-d2741912a1eb"
      },
      "execution_count": 5,
      "outputs": [
        {
          "output_type": "stream",
          "name": "stdout",
          "text": [
            "The common symptoms of PCOS include: Irregular menstrual cycles, Excessive hair growth, Acne, Obesity, Ovarian cysts.\n",
            "The recommended treatment for ENDOMETRIOSIS includes: Pain relief medications (NSAIDs), Hormonal therapies (birth control pills, GnRH agonists), Surgical options (laparoscopy, hysterectomy).\n"
          ]
        }
      ]
    },
    {
      "cell_type": "code",
      "source": [
        "# Interactive loop for the chatbot\n",
        "while True:\n",
        "    user_query = input(\"Enter your query (or type 'exit' to quit): \")\n",
        "    if user_query.lower() == 'exit':\n",
        "        break\n",
        "    response = bot.answer_query(user_query)\n",
        "    print(\"Chatbot:\", response)"
      ],
      "metadata": {
        "colab": {
          "base_uri": "https://localhost:8080/"
        },
        "id": "TWoMO6Jo3SWH",
        "outputId": "09530513-e43e-4371-d1fc-5b6e82c7d0d8"
      },
      "execution_count": 7,
      "outputs": [
        {
          "name": "stdout",
          "output_type": "stream",
          "text": [
            "Enter your query (or type 'exit' to quit): What are the symptoms of PCOS?\n",
            "Chatbot: The common symptoms of PCOS include: Irregular menstrual cycles, Excessive hair growth, Acne, Obesity, Ovarian cysts.\n",
            "Enter your query (or type 'exit' to quit): What are the treatment options for endometriosis?\n",
            "Chatbot: The recommended treatment for ENDOMETRIOSIS includes: Pain relief medications (NSAIDs), Hormonal therapies (birth control pills, GnRH agonists), Surgical options (laparoscopy, hysterectomy).\n",
            "Enter your query (or type 'exit' to quit): exit\n"
          ]
        }
      ]
    }
  ]
}